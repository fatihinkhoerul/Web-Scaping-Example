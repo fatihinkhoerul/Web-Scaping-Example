{
 "cells": [
  {
   "cell_type": "code",
   "execution_count": 1,
   "id": "e488f84a",
   "metadata": {},
   "outputs": [],
   "source": [
    "from bs4 import BeautifulSoup\n",
    "import requests\n",
    "from csv import writer"
   ]
  },
  {
   "cell_type": "code",
   "execution_count": 2,
   "id": "4f6cb2fd",
   "metadata": {},
   "outputs": [],
   "source": [
    "page_url = requests.get('https://www.pararius.com/apartments/bergen-op-zoom/address-londonstraat?ac=1')"
   ]
  },
  {
   "cell_type": "code",
   "execution_count": 3,
   "id": "d274459a",
   "metadata": {},
   "outputs": [],
   "source": [
    "soup = BeautifulSoup(page_url.content, 'html.parser')"
   ]
  },
  {
   "cell_type": "code",
   "execution_count": 4,
   "id": "534041b2",
   "metadata": {},
   "outputs": [],
   "source": [
    "lists = soup.find_all('section', class_='listing-search-item')"
   ]
  },
  {
   "cell_type": "code",
   "execution_count": 6,
   "id": "501308bc",
   "metadata": {},
   "outputs": [
    {
     "name": "stdout",
     "output_type": "stream",
     "text": [
      "['House Fuksiastraat', 'new                        4651 LG Steenbergen (Steenbergen-Zuid)', '€895 per month', '80 m²']\n",
      "['House Dubbelstraat', 'new                        4611 GL Bergen op Zoom (Havenkwartier)', '€1,295 per month', '134 m²']\n",
      "['Apartment Kremerstraat', '4611 TP Bergen op Zoom (Centrum)', '€1,150 per month', '101 m²']\n",
      "['Apartment Kremerstraat', '4611 TP Bergen op Zoom (Centrum)', '€1,150 per month', '90 m²']\n",
      "['Apartment Calfven', '4641 RC Ossendrecht (Calfven)', '€850 per month', '28 m²']\n",
      "['Apartment Grote Markt', '4611 NR Bergen op Zoom (Centrum)', '€1,175 per month', '84 m²']\n",
      "['House Fluwelenbroekstraat', '4611 JS Bergen op Zoom (Centrum)', '€1,375 per month', '87 m²']\n",
      "['Studio Antwerpsestraat', '4611 AB Bergen op Zoom (Vestinggronden-Zuid)', '€975 per month', '55 m²']\n",
      "['House Zandstraat', '4614 CG Bergen op Zoom (Meilust Zuid)', '€1,200 per month', '85 m²']\n",
      "['House Paulusberg', '4615 LA Bergen op Zoom (Zeekant)', '€1,300 per month', '153 m²']\n",
      "['Apartment Prins Bernhardlaan', '4615 BD Bergen op Zoom (Het Fort)', '€985 per month', '120 m²']\n",
      "['Apartment Kerkstraat', '4611 NV Bergen op Zoom (Centrum)', '€795 per month', '63 m²']\n",
      "['Apartment Sint-Josephstraat', '4611 ML Bergen op Zoom (Centrum)', '€995 per month', '105 m²']\n",
      "['Room Peter Vineloolaan', '4611 AN Bergen op Zoom (Het Glacis)', '€950 per month', '58 m²']\n",
      "['Apartment Bergsestraat', '4724 CD Wouw (Wouw)', '€2,375 per month', '232 m²']\n",
      "['House Secretaris Bertenslaan', '4661 BA Halsteren (De Beek)', '€1,695 per month', '186 m²']\n",
      "['Apartment Roskamstraat', '4611 LZ Bergen op Zoom (Centrum)', '€1,500 per month', '200 m²']\n",
      "['House Canadaweg', '4661 PZ Halsteren (De Schans en Oude Molen)', '€750 per month', '100 m²']\n",
      "['Apartment Kremerstraat', '4611 TP Bergen op Zoom (Centrum)', '€1,350 per month', '80 m²']\n",
      "['Apartment Grote Markt', '4611 NR Bergen op Zoom (Centrum)', '€1,350 per month', '75 m²']\n",
      "['Apartment Bosstraat', '4611 NA Bergen op Zoom (Centrum)', '€750 per month', '78 m²']\n",
      "['House de Groenling', '4631 MM Hoogerheide (Hoogerheide-Noord)', '€1,500 per month', '150 m²']\n"
     ]
    }
   ],
   "source": [
    "with open('D:\\Data Analyst\\web scraping\\housing.csv', 'w', encoding='utf8', newline='') as f:\n",
    "    thewriter = writer(f)\n",
    "    header = ['Title', 'Location', 'Price', 'Area']\n",
    "    thewriter.writerow(header)\n",
    "    for list in lists:\n",
    "        title = list.find('h2', class_='listing-search-item__title').text.replace('\\n', '').strip()\n",
    "        location = list.find('div', class_='listing-search-item__location').text.replace('\\n', '').strip()\n",
    "        price = list.find('span', class_='listing-search-item__price').text.replace('\\n  ', '').strip()\n",
    "        area = list.find('span', class_='illustrated-features__description').text.replace('\\n', '').strip()\n",
    "        info = [title, location, price, area]\n",
    "        print(info)\n",
    "        thewriter.writerow(info)"
   ]
  },
  {
   "cell_type": "code",
   "execution_count": null,
   "id": "e09f2f4b",
   "metadata": {},
   "outputs": [],
   "source": []
  }
 ],
 "metadata": {
  "kernelspec": {
   "display_name": "Python 3 (ipykernel)",
   "language": "python",
   "name": "python3"
  },
  "language_info": {
   "codemirror_mode": {
    "name": "ipython",
    "version": 3
   },
   "file_extension": ".py",
   "mimetype": "text/x-python",
   "name": "python",
   "nbconvert_exporter": "python",
   "pygments_lexer": "ipython3",
   "version": "3.9.0"
  }
 },
 "nbformat": 4,
 "nbformat_minor": 5
}
